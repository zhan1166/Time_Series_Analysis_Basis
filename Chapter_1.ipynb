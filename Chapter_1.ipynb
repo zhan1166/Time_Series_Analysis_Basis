{
 "cells": [
  {
   "cell_type": "markdown",
   "metadata": {},
   "source": [
    "# 1. 统计与时间序列分析基础"
   ]
  },
  {
   "cell_type": "markdown",
   "metadata": {},
   "source": [
    "## 1.1 数据的统计描述"
   ]
  },
  {
   "cell_type": "markdown",
   "metadata": {},
   "source": [
    "**统计的任务是由样本推断总体**\n",
    "\n",
    "假设有一个容量为n的样本（即一组数据），记作\\$X=(x_1,x_2,...,x_n)\\$,然后利用统计量反映样本数量特征。"
   ]
  },
  {
   "cell_type": "markdown",
   "metadata": {},
   "source": [
    "**(1)均值**：\n",
    "\\begin{equation}\n",
    "\\bar{x}=\\frac{1}{n} \\sum^n_{i=1}{x_i}\n",
    "\\end{equation}"
   ]
  },
  {
   "cell_type": "markdown",
   "metadata": {},
   "source": [
    "**(2)标准差**：\n",
    "\n",
    "\\begin{equation}\n",
    "s=[\\frac{1}{n-1}\\sum^n_{i=1}{(x_i-\\bar{x})^2}]^{\\frac{1}{2}}\n",
    "\\end{equation}"
   ]
  },
  {
   "cell_type": "markdown",
   "metadata": {},
   "source": [
    "推导：\n",
    "\\begin{equation}\n",
    "E(s^2_1) = \\frac{1}{n}E(\\sum^n_{i=1}{(X_i-\\bar{X})^2)}\n",
    "\\end{equation}\n",
    "\\begin{equation}\n",
    "= \\frac{1}{n}E(\\sum^n_{i=1}{(X_i-\\mu+\\mu-\\bar{X})^2)}\n",
    "\\end{equation}\n",
    "\\begin{equation}\n",
    "=\\frac{1}{n}E((\\sum^n_{i=1}{(X_i-\\mu)^2-2(X_i-\\mu)(\\bar{X}-\\mu)+(\\bar{X}-\\mu)^2}))\n",
    "\\end{equation}\n",
    "\\begin{equation}\n",
    "=\\frac{1}{n}E(\\sum^n_{i=1}{(X_i-\\mu)^2}-2\\sum^n_{i=1}{(X_i-\\mu)(\\bar{X}-\\mu)}+n(\\bar{X}-\\mu)^2)\n",
    "\\end{equation}\n",
    "\\begin{equation}\n",
    "=\\frac{1}{n}E(\\sum^n_{i=1}{(X_i-\\mu)^2}-2n(X_i-\\mu)(\\bar{X}-\\mu)+n(\\bar{X}-\\mu)^2)\n",
    "\\end{equation}\n",
    "\\begin{equation}\n",
    "=\\frac{1}{n}E(\\sum^n_{i=1}{(X_i-\\mu)^2}-n(\\bar{X}-\\mu)^2)\n",
    "\\end{equation}\n",
    "\\begin{equation}\n",
    "=\\frac{1}{n}(n Var(X)-n Var(\\bar{X})) = Var(X) - Var(\\bar{X}) = \\sigma^2-\\frac{\\sigma^2}{n} = \\frac{n-1}{n}\\sigma^2\n",
    "\\end{equation}"
   ]
  },
  {
   "cell_type": "markdown",
   "metadata": {},
   "source": [
    "**(3)中心距、偏度、峰度**：\n",
    "\n",
    "随机变量x的r阶中心矩为 \\$E(x-E(x))^r\\$\n",
    "\n",
    "随机变量x的偏度和峰度为x的标准化变量\\$(x-E(x))/\\sqrt{D(x)}\\$ 的三阶中心矩和四阶中心矩：\n",
    "\n",
    "\\begin{equation}\n",
    "skew = E[(\\frac{x-E(x)}{\\sqrt{D(x)}})^3]\n",
    "\\end{equation}\n",
    "\\begin{equation}\n",
    "kurt = E[(\\frac{x-E(x)}{\\sqrt{D(x)}})^4]\n",
    "\\end{equation}"
   ]
  },
  {
   "cell_type": "markdown",
   "metadata": {},
   "source": [
    "**偏度**反映分布的对称性：\n",
    "\n",
    "    skew>0称为**右偏态**left-skewed，此时数据位于均值右边的比位于左边的多;\n",
    "    skew<0称为**左偏态**right-skewed，此时数据位于均值右边的比位于左边的多;\n",
    "\n",
    "**峰度**表示样本偏离正态分布的尺度之一：\n",
    "\n",
    "    正态分布的kurt=3；\n",
    "    kurt<3,thick tail\n",
    "    kurt>3,thin tail"
   ]
  },
  {
   "cell_type": "markdown",
   "metadata": {},
   "source": [
    "## 1.2 重要分布"
   ]
  },
  {
   "cell_type": "markdown",
   "metadata": {},
   "source": [
    "### 1.2.1 正态分布"
   ]
  },
  {
   "cell_type": "markdown",
   "metadata": {},
   "source": [
    "正态分布记作：\\$X\\sim{N(\\mu,\\sigma^2)}\\$\n",
    "\n",
    "当\\$\\mu=0,\\sigma=1\\$时为标准正态分布，且其skew=0,kurt=3"
   ]
  },
  {
   "cell_type": "markdown",
   "metadata": {},
   "source": [
    "### 1.2.2 \\$\\chi^2\\$（chi-squared）分布"
   ]
  },
  {
   "cell_type": "markdown",
   "metadata": {},
   "source": [
    "若\\$X_1,X_2,...,X_n\\$为相互独立、服从标准正态分布N(0,1)的随机变量，则它们的平方和\\$Y=\\sum^n_{i=1}X^2_i\\$服从chi-squred 分布。\n",
    "\n",
    "记作\\$Y\\sim{\\chi^2(n)}\\$, \\$n\\$为自由度，\\$EY=n,DY=2n\\$。"
   ]
  },
  {
   "cell_type": "markdown",
   "metadata": {},
   "source": [
    "### 1.2.3 T 分布"
   ]
  },
  {
   "cell_type": "markdown",
   "metadata": {},
   "source": [
    "若\\$X\\sim{N(0,1)},Y\\sim{\\chi^2(n)}\\$,且相互独立，则\\$Z=\\frac{X}{\\sqrt{Y/n}}\\$服从T分布，记作\\$Z\\sim{T(n)}\\$,n为自由度。\n",
    "\n",
    "对于T分布，当n>30时，它与N(0,1)就相差无几了。"
   ]
  },
  {
   "cell_type": "markdown",
   "metadata": {},
   "source": [
    "### 1.2.4 F 分布"
   ]
  },
  {
   "cell_type": "markdown",
   "metadata": {},
   "source": [
    "若\\$X\\sim{\\chi^2(n_1)}\\,Y\\sim{\\chi^2(n_2)}$,且相互独立，则\\$X=\\frac{X/n_1}{Y/n_2}\\$服从F分布。\n",
    "\n",
    "记作\\$F(n_1,n_2), (n_1,n_2)\\$为自由度。"
   ]
  },
  {
   "cell_type": "markdown",
   "metadata": {},
   "source": [
    "## 1.3 正态总体统计量的分布"
   ]
  },
  {
   "cell_type": "markdown",
   "metadata": {},
   "source": [
    "用样本来推断总体，需要知道样本统计量的分布，而样本又是一组与总体分布同分布的随机变量，所以样本统计量的分布依赖于总体的分布。当总体服从一般的分布时，求某个样本统计量的分布是很困难的，而当总体服从正态分布时，一些重要的样本统计量(均值、标准差)的分布才有便于使用的结果。"
   ]
  },
  {
   "cell_type": "markdown",
   "metadata": {},
   "source": [
    "假设总体\\$X\\sim{N(\\mu,\\sigma^2)}\\$,样本\\$(x_1,x_2,...,x_n)\\$则\n",
    "\\begin{equation}\n",
    "\\bar{x}\\sim{N(\\mu,\\frac{\\sigma^2}{n})}或\\frac{\\bar{x}-\\mu}{\\sigma/\\sqrt{n}}\\sim{N(0,1)}\n",
    "\\end{equation}"
   ]
  },
  {
   "cell_type": "markdown",
   "metadata": {},
   "source": [
    "\\begin{equation}\n",
    "\\frac{(n-1)s^2}{\\sigma^2}\\sim{\\chi^2(n-1)}\n",
    "\\end{equation}\n",
    "\n",
    "\\begin{equation}\n",
    "\\frac{\\bar{x}-\\mu}{s/\\sqrt{n}}\\sim{T(n-1)}\n",
    "\\end{equation}"
   ]
  },
  {
   "cell_type": "markdown",
   "metadata": {},
   "source": [
    "设有两个总体\\$X\\sim{N(\\mu_1,\\sigma_1^2)}\\$和\\$Y\\sim{N(\\mu_2,\\sigma_2^2)}\\$,即有两个容量分别为n,m的样本，其均值和标准差分别为:\\$\\bar{x},\\bar{y},s_1,s_2\\$,则：\n",
    "\n",
    "\\begin{equation}\n",
    "\\frac{(\\bar{x}-\\bar{y})-(\\mu_1-\\mu_2)}{\\sqrt{\\sigma^2_1/n+\\sigma^2_2/m}}\\sim{N(0,1)}\n",
    "\\end{equation}\n",
    "\\begin{equation}\n",
    "\\frac{(\\bar{x}-\\bar{y})-(\\mu_1-\\mu_2)}{s_w\\sqrt{1/n+1/m}}\\sim{T(n+m-2)}\n",
    "\\end{equation}\n",
    "Where,\n",
    "\\begin{equation}\n",
    "s_w^2=\\frac{(n_1-1)s_1^2+(n_2-1)s_2^2}{n_1+n_2-2}\n",
    "\\end{equation}"
   ]
  },
  {
   "cell_type": "markdown",
   "metadata": {},
   "source": [
    "\\begin{equation}\n",
    "\\frac{s_1^2/\\sigma^2_1}{s^2_2/\\sigma^2_2}\\sim{F(n-1,m-1)}\n",
    "\\end{equation}"
   ]
  },
  {
   "cell_type": "markdown",
   "metadata": {},
   "source": [
    "## 1.4 参数估计"
   ]
  },
  {
   "cell_type": "markdown",
   "metadata": {},
   "source": [
    "利用样本对总体进行推断的一类问题是参数估计，即假定已知总体的分布，通常是\\$X\\sim{N(\\mu,\\sigma^2)}\\$，估计有关的参数，如\\$\\mu,\\sigma\\$。参数估计分为**点估计**和**区间估计**"
   ]
  },
  {
   "cell_type": "markdown",
   "metadata": {},
   "source": [
    "### 1.4.1 点估计"
   ]
  },
  {
   "cell_type": "markdown",
   "metadata": {},
   "source": [
    "点估计是样本统计量确定总体参数的一个数值，评价估计优劣的标准有**无偏性**、**最小方差性**、**有效性**等，估计的方法有矩法、极大似然法。"
   ]
  },
  {
   "cell_type": "markdown",
   "metadata": {},
   "source": [
    "最常用的是对总体均值和方差（或标准差）做点估计。\n",
    "例如：\\$\\hat{\\mu}=\\bar{x},\\hat{\\sigma}^2=s^2\\$"
   ]
  },
  {
   "cell_type": "markdown",
   "metadata": {},
   "source": [
    "### 1.4.2 区间估计"
   ]
  },
  {
   "cell_type": "markdown",
   "metadata": {},
   "source": [
    "点估计给出待估参数的一个数值，但是忽略了估计值的精度和可信度。\n",
    "\n",
    "一般来说，总体的待估计值\\$\\theta (例如\\mu,\\sigma^2)\\$,人们更希望给出一个区间\\$[\\hat{\\theta}_1,\\hat{\\theta}_2]\\$\n",
    "\n",
    "有\n",
    "\\begin{equation}\n",
    "P(\\hat{\\theta}_1 < \\theta < \\hat{\\theta}_2) = 1-\\alpha, 0<\\alpha<1\n",
    "\\end{equation}"
   ]
  },
  {
   "cell_type": "markdown",
   "metadata": {},
   "source": [
    "则\\$[\\hat{\\theta}_1,\\hat{\\theta}_2] 被称作\\theta的置信区间，\\alpha为显著性水平，1-\\alpha为置信概率\\$"
   ]
  },
  {
   "cell_type": "markdown",
   "metadata": {},
   "source": [
    "## 1.5 假设性检验"
   ]
  },
  {
   "cell_type": "markdown",
   "metadata": {},
   "source": [
    "统计推断的另一类重要问题是假设性检验问题。在总体的分布函数未知或者只知道形式但是不清楚具体参数的情况下，为了推断总体的某些性质，提出某些关于总体的假设。\n",
    "\n",
    "例如，提出总体服从泊松分布的假设，又比如对于正态总体提出数学期望等于\\$\\mu_0\\$的假设。"
   ]
  },
  {
   "cell_type": "markdown",
   "metadata": {},
   "source": [
    "### 1.5.1 单个总体 \\$N(\\mu,\\sigma^2)的均值\\mu检验\\$"
   ]
  },
  {
   "cell_type": "markdown",
   "metadata": {},
   "source": [
    "一共三种假设性检验：\n",
    "1. 双边检验: \\$H_0: \\mu\\=\\mu_0, H_1: \\mu\\ne\\mu_0\\$\n",
    "2. 右边检验: \\$H_0: \\mu\\le\\mu_0, H_1: \\mu>\\mu_0\\$\n",
    "3. 左边检验: \\$H_0: \\mu\\ge\\mu_0, H_1: \\mu<\\mu_0\\$"
   ]
  },
  {
   "cell_type": "markdown",
   "metadata": {},
   "source": [
    "当\\$\\sigma^2\\$已知时,此时用Z检验"
   ]
  },
  {
   "cell_type": "markdown",
   "metadata": {},
   "source": [
    "### 1.5.2 分布拟合检验"
   ]
  },
  {
   "cell_type": "markdown",
   "metadata": {},
   "source": [
    "用chi-squred检验再总体分布未知的情况下，根据样本来检验关于总体分布的假设。"
   ]
  },
  {
   "cell_type": "markdown",
   "metadata": {},
   "source": []
  }
 ],
 "metadata": {
  "kernelspec": {
   "display_name": "Python 3",
   "language": "python",
   "name": "python3"
  },
  "language_info": {
   "codemirror_mode": {
    "name": "ipython",
    "version": 3
   },
   "file_extension": ".py",
   "mimetype": "text/x-python",
   "name": "python",
   "nbconvert_exporter": "python",
   "pygments_lexer": "ipython3",
   "version": "3.6.7"
  }
 },
 "nbformat": 4,
 "nbformat_minor": 4
}
